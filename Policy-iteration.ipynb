{
 "cells": [
  {
   "cell_type": "code",
   "execution_count": 1,
   "metadata": {
    "collapsed": true
   },
   "outputs": [],
   "source": [
    "import numpy as np\n",
    "from libr.envs.gridworld import GridworldEnv"
   ]
  },
  {
   "cell_type": "code",
   "execution_count": 2,
   "metadata": {
    "collapsed": true
   },
   "outputs": [],
   "source": [
    "env = GridworldEnv()"
   ]
  },
  {
   "cell_type": "code",
   "execution_count": 3,
   "metadata": {
    "collapsed": true
   },
   "outputs": [],
   "source": [
    "def policyIterationJC(env, discount, tol = 10**(-4)):\n",
    "    '''This is the main function for computing policy iteration method.\n",
    "    Inputs - (i) env: the environment\n",
    "            (ii) discount: the discount factor for infinite horizon discounted DP\n",
    "            (iii) tol: tolerance for stopping the iterations; the default value is 10^(-4)\n",
    "    Outputs - Value and policy  \n",
    "    For example, see Figure 4.3 of Sutton and Barto for the pseudocode\n",
    "    '''\n",
    "    \n",
    "    #Initialization\n",
    "    V = np.zeros(env.nS)\n",
    "    policy_new = np.zeros(env.nS) # alternatively: policy = np.zeros_like(V)\n",
    "    #policy_old = np.zeros_like(policy_new)\n",
    "        \n",
    "    def spanNorm(V, V_old):\n",
    "        '''V and V_old are arrays of same dimention'''\n",
    "        \n",
    "        diff_vec = V-V_old\n",
    "        diff_span = np.max(diff_vec) - np.min(diff_vec)\n",
    "        return diff_span\n",
    "\n",
    "\n",
    "    def policyEvaluation(policy):\n",
    "        #actionvalueExp = np.zeros([env.nS, env.nA]) # array of actions \n",
    "        V = np.zeros(env.nS)\n",
    "        flag = 1\n",
    "        while flag ==1:\n",
    "            V1 = np.copy(V)\n",
    "            for s in range(env.nS):\n",
    "                a = policy[s]\n",
    "                for prob, nextState, reward, done in env.P[s][a]:\n",
    "                    #Bellman update\n",
    "                     V[s] += prob*(reward+discount*V[nextState])\n",
    "            err1 = spanNorm(V,V1)\n",
    "            if err1 < tol:\n",
    "                flag = 0\n",
    "        return V\n",
    "    \n",
    "    while True:\n",
    "        policy_old = np.copy(policy_new)\n",
    "        V_old = policyEvaluation(policy_old)\n",
    "                \n",
    "        actionvalueExp = np.zeros([env.nS, env.nA]) # array of actions \n",
    "        for s in range(env.nS):\n",
    "            for a in range(env.nA):\n",
    "                for prob, nextState, reward, done in env.P[s][a]:\n",
    "                    #Compute Q-values with Bellman update\n",
    "                    actionvalueExp[s][a] += prob*(reward+discount*V_old[nextState])\n",
    "            policy_new[s] = np.argmax(actionvalueExp[s]) # policy improvement with greedy policy\n",
    "        V = policyEvaluation(policy_new)   \n",
    "        err = spanNorm(V, V_old) \n",
    "        if err < tol:\n",
    "            break\n",
    "    return V, policy_new     "
   ]
  },
  {
   "cell_type": "code",
   "execution_count": 4,
   "metadata": {
    "collapsed": false
   },
   "outputs": [
    {
     "name": "stderr",
     "output_type": "stream",
     "text": [
      "/Library/Frameworks/Python.framework/Versions/3.6/lib/python3.6/site-packages/ipykernel/__main__.py:33: RuntimeWarning: overflow encountered in double_scalars\n",
      "/Library/Frameworks/Python.framework/Versions/3.6/lib/python3.6/site-packages/ipykernel/__main__.py:18: RuntimeWarning: invalid value encountered in subtract\n"
     ]
    },
    {
     "ename": "KeyboardInterrupt",
     "evalue": "",
     "output_type": "error",
     "traceback": [
      "\u001b[0;31m---------------------------------------------------------------------------\u001b[0m",
      "\u001b[0;31mKeyboardInterrupt\u001b[0m                         Traceback (most recent call last)",
      "\u001b[0;32m<ipython-input-4-775eecd947ca>\u001b[0m in \u001b[0;36m<module>\u001b[0;34m()\u001b[0m\n\u001b[0;32m----> 1\u001b[0;31m \u001b[0mpolicyIterationJC\u001b[0m\u001b[0;34m(\u001b[0m\u001b[0menv\u001b[0m\u001b[0;34m,\u001b[0m\u001b[0;36m0.9\u001b[0m\u001b[0;34m)\u001b[0m\u001b[0;34m\u001b[0m\u001b[0m\n\u001b[0m",
      "\u001b[0;32m<ipython-input-3-ce28e2d89a40>\u001b[0m in \u001b[0;36mpolicyIterationJC\u001b[0;34m(env, discount, tol)\u001b[0m\n\u001b[1;32m     39\u001b[0m     \u001b[0;32mwhile\u001b[0m \u001b[0;32mTrue\u001b[0m\u001b[0;34m:\u001b[0m\u001b[0;34m\u001b[0m\u001b[0m\n\u001b[1;32m     40\u001b[0m         \u001b[0mpolicy_old\u001b[0m \u001b[0;34m=\u001b[0m \u001b[0mnp\u001b[0m\u001b[0;34m.\u001b[0m\u001b[0mcopy\u001b[0m\u001b[0;34m(\u001b[0m\u001b[0mpolicy_new\u001b[0m\u001b[0;34m)\u001b[0m\u001b[0;34m\u001b[0m\u001b[0m\n\u001b[0;32m---> 41\u001b[0;31m         \u001b[0mV_old\u001b[0m \u001b[0;34m=\u001b[0m \u001b[0mpolicyEvaluation\u001b[0m\u001b[0;34m(\u001b[0m\u001b[0mpolicy_old\u001b[0m\u001b[0;34m)\u001b[0m\u001b[0;34m\u001b[0m\u001b[0m\n\u001b[0m\u001b[1;32m     42\u001b[0m \u001b[0;34m\u001b[0m\u001b[0m\n\u001b[1;32m     43\u001b[0m         \u001b[0mactionvalueExp\u001b[0m \u001b[0;34m=\u001b[0m \u001b[0mnp\u001b[0m\u001b[0;34m.\u001b[0m\u001b[0mzeros\u001b[0m\u001b[0;34m(\u001b[0m\u001b[0;34m[\u001b[0m\u001b[0menv\u001b[0m\u001b[0;34m.\u001b[0m\u001b[0mnS\u001b[0m\u001b[0;34m,\u001b[0m \u001b[0menv\u001b[0m\u001b[0;34m.\u001b[0m\u001b[0mnA\u001b[0m\u001b[0;34m]\u001b[0m\u001b[0;34m)\u001b[0m \u001b[0;31m# array of actions\u001b[0m\u001b[0;34m\u001b[0m\u001b[0m\n",
      "\u001b[0;32m<ipython-input-3-ce28e2d89a40>\u001b[0m in \u001b[0;36mpolicyEvaluation\u001b[0;34m(policy)\u001b[0m\n\u001b[1;32m     31\u001b[0m                 \u001b[0;32mfor\u001b[0m \u001b[0mprob\u001b[0m\u001b[0;34m,\u001b[0m \u001b[0mnextState\u001b[0m\u001b[0;34m,\u001b[0m \u001b[0mreward\u001b[0m\u001b[0;34m,\u001b[0m \u001b[0mdone\u001b[0m \u001b[0;32min\u001b[0m \u001b[0menv\u001b[0m\u001b[0;34m.\u001b[0m\u001b[0mP\u001b[0m\u001b[0;34m[\u001b[0m\u001b[0ms\u001b[0m\u001b[0;34m]\u001b[0m\u001b[0;34m[\u001b[0m\u001b[0ma\u001b[0m\u001b[0;34m]\u001b[0m\u001b[0;34m:\u001b[0m\u001b[0;34m\u001b[0m\u001b[0m\n\u001b[1;32m     32\u001b[0m                     \u001b[0;31m#Bellman update\u001b[0m\u001b[0;34m\u001b[0m\u001b[0;34m\u001b[0m\u001b[0m\n\u001b[0;32m---> 33\u001b[0;31m                      \u001b[0mV\u001b[0m\u001b[0;34m[\u001b[0m\u001b[0ms\u001b[0m\u001b[0;34m]\u001b[0m \u001b[0;34m+=\u001b[0m \u001b[0mprob\u001b[0m\u001b[0;34m*\u001b[0m\u001b[0;34m(\u001b[0m\u001b[0mreward\u001b[0m\u001b[0;34m+\u001b[0m\u001b[0mdiscount\u001b[0m\u001b[0;34m*\u001b[0m\u001b[0mV\u001b[0m\u001b[0;34m[\u001b[0m\u001b[0mnextState\u001b[0m\u001b[0;34m]\u001b[0m\u001b[0;34m)\u001b[0m\u001b[0;34m\u001b[0m\u001b[0m\n\u001b[0m\u001b[1;32m     34\u001b[0m             \u001b[0merr1\u001b[0m \u001b[0;34m=\u001b[0m \u001b[0mspanNorm\u001b[0m\u001b[0;34m(\u001b[0m\u001b[0mV\u001b[0m\u001b[0;34m,\u001b[0m\u001b[0mV1\u001b[0m\u001b[0;34m)\u001b[0m\u001b[0;34m\u001b[0m\u001b[0m\n\u001b[1;32m     35\u001b[0m             \u001b[0;32mif\u001b[0m \u001b[0merr1\u001b[0m \u001b[0;34m<\u001b[0m \u001b[0mtol\u001b[0m\u001b[0;34m:\u001b[0m\u001b[0;34m\u001b[0m\u001b[0m\n",
      "\u001b[0;31mKeyboardInterrupt\u001b[0m: "
     ]
    }
   ],
   "source": [
    "policyIterationJC(env,0.9)"
   ]
  }
 ],
 "metadata": {
  "kernelspec": {
   "display_name": "Python 3",
   "language": "python",
   "name": "python3"
  },
  "language_info": {
   "codemirror_mode": {
    "name": "ipython",
    "version": 3
   },
   "file_extension": ".py",
   "mimetype": "text/x-python",
   "name": "python",
   "nbconvert_exporter": "python",
   "pygments_lexer": "ipython3",
   "version": "3.6.1"
  }
 },
 "nbformat": 4,
 "nbformat_minor": 2
}
