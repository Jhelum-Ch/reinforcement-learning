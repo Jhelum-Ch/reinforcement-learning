{
 "cells": [
  {
   "cell_type": "code",
   "execution_count": 1,
   "metadata": {
    "collapsed": true,
    "deletable": true,
    "editable": true
   },
   "outputs": [],
   "source": [
    "import numpy as np\n",
    "from libr.envs.gridworld import GridworldEnv"
   ]
  },
  {
   "cell_type": "code",
   "execution_count": 2,
   "metadata": {
    "collapsed": true,
    "deletable": true,
    "editable": true
   },
   "outputs": [],
   "source": [
    "env = GridworldEnv()"
   ]
  },
  {
   "cell_type": "code",
   "execution_count": null,
   "metadata": {
    "collapsed": true,
    "deletable": true,
    "editable": true
   },
   "outputs": [],
   "source": [
    "def policyIterationJC(env, discount, tol = 10**(-4)):\n",
    "    '''This is the main function for computing policy iteration method.\n",
    "    Inputs - (i) env: the environment\n",
    "            (ii) discount: the discount factor for infinite horizon discounted DP\n",
    "            (iii) tol: tolerance for stopping the iterations; the default value is 10^(-4)\n",
    "    Outputs - Value and policy  \n",
    "    For example, see Figure 4.3 of Sutton and Barto for the pseudocode\n",
    "    '''\n",
    "    \n",
    "    #Initialization\n",
    "    V = np.zeros(env.nS)\n",
    "    policy_new = np.zeros(env.nS) # alternatively: policy = np.zeros_like(V)\n",
    "    #policy_old = np.zeros_like(policy_new)\n",
    "        \n",
    "    def spanNorm(V, V_old):\n",
    "        '''V and V_old are arrays of same dimention'''\n",
    "        \n",
    "        diff_vec = V-V_old\n",
    "        diff_span = np.max(diff_vec) - np.min(diff_vec)\n",
    "        return diff_span\n",
    "\n",
    "\n",
    "    def policyEvaluation(policy):\n",
    "        #actionvalueExp = np.zeros([env.nS, env.nA]) # array of actions \n",
    "        V = np.zeros(env.nS)\n",
    "        flag = 1\n",
    "        while flag ==1: #use for loop with number of iteration\n",
    "            V1 = np.copy(V)\n",
    "            for s in range(env.nS):\n",
    "                a = policy[s]\n",
    "                for prob, nextState, reward, done in env.P[s][a]:\n",
    "                    #Bellman update\n",
    "                     V[s] += prob*(reward+discount*V[nextState])\n",
    "            err1 = spanNorm(V,V1)\n",
    "            if err1 < tol:\n",
    "                flag = 0\n",
    "        return V\n",
    "    \n",
    "    while True:\n",
    "        policy_old = np.copy(policy_new)\n",
    "        V_old = policyEvaluation(policy_old)\n",
    "                \n",
    "        actionvalueExp = np.zeros([env.nS, env.nA]) # array of actions \n",
    "        for s in range(env.nS):\n",
    "            for a in range(env.nA):\n",
    "                for prob, nextState, reward, done in env.P[s][a]:\n",
    "                    #Compute Q-values with Bellman update\n",
    "                    actionvalueExp[s][a] += prob*(reward+discount*V_old[nextState])\n",
    "            policy_new[s] = np.argmax(actionvalueExp[s]) # policy improvement with greedy policy\n",
    "        V = policyEvaluation(policy_new)   \n",
    "        err = spanNorm(V, V_old) \n",
    "        if err < tol:\n",
    "            break\n",
    "    return V, policy_new     "
   ]
  },
  {
   "cell_type": "code",
   "execution_count": null,
   "metadata": {
    "collapsed": false,
    "deletable": true,
    "editable": true
   },
   "outputs": [
    {
     "name": "stderr",
     "output_type": "stream",
     "text": [
      "/Library/Frameworks/Python.framework/Versions/3.6/lib/python3.6/site-packages/ipykernel/__main__.py:33: RuntimeWarning: overflow encountered in double_scalars\n",
      "/Library/Frameworks/Python.framework/Versions/3.6/lib/python3.6/site-packages/ipykernel/__main__.py:18: RuntimeWarning: invalid value encountered in subtract\n"
     ]
    }
   ],
   "source": [
    "policyIterationJC(env,0.9)"
   ]
  }
 ],
 "metadata": {
  "kernelspec": {
   "display_name": "Python 3",
   "language": "python",
   "name": "python3"
  },
  "language_info": {
   "codemirror_mode": {
    "name": "ipython",
    "version": 3
   },
   "file_extension": ".py",
   "mimetype": "text/x-python",
   "name": "python",
   "nbconvert_exporter": "python",
   "pygments_lexer": "ipython3",
   "version": "3.6.1"
  }
 },
 "nbformat": 4,
 "nbformat_minor": 2
}
