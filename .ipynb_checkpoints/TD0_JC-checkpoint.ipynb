{
 "cells": [
  {
   "cell_type": "code",
   "execution_count": 1,
   "metadata": {
    "collapsed": true
   },
   "outputs": [],
   "source": [
    "import numpy as np\n",
    "#from itertools import permutations, repeat, product\n",
    "import itertools\n",
    "import gym\n",
    "from libr.envs.cliff_walking2 import CliffWalkingEnv"
   ]
  },
  {
   "cell_type": "code",
   "execution_count": 2,
   "metadata": {
    "collapsed": true
   },
   "outputs": [],
   "source": [
    "env = CliffWalkingEnv()"
   ]
  },
  {
   "cell_type": "code",
   "execution_count": 3,
   "metadata": {
    "collapsed": true
   },
   "outputs": [],
   "source": [
    "def TD0JC(env, numEpisodes, discount):\n",
    "    '''This is the main function for computing TD0 policy evaluation method. I have used a random policy \n",
    "    to be evaluated.\n",
    "    Inputs - (i) env: OpenAI gym environment\n",
    "            (ii) numEpisodes: number of episodes\n",
    "            (iii) discount: the discount factor for infinite horizon discounted DP\n",
    "    Outputs - Value\n",
    "    For example, see Figure 6.2 of Sutton and Barto for the pseudocode\n",
    "    '''\n",
    "    #initialize\n",
    "    V = np.zeros(env.observation_space.n)\n",
    "    alpha = 0.1 #learning rate\n",
    "    rList=[]\n",
    "    \n",
    "    #A random policy to be evaluated, returns an action\n",
    "    def randomPolicy(state):\n",
    "        a=env.action_space.sample()\n",
    "        return a\n",
    "    \n",
    "    for ep in range(numEpisodes):\n",
    "        currState = env.reset()\n",
    "        rTotalFromEpisode = 0\n",
    "        #for t in range(lenEp):\n",
    "        for _ in itertools.count():\n",
    "            currAction = randomPolicy(currState)\n",
    "            \n",
    "            #generate a sample\n",
    "            nextState, reward, done, _ = env.step(currAction)            \n",
    "            rTotalFromEpisode += reward\n",
    "            \n",
    "            TDerror = reward + discount*V[nextState] - V[currState]\n",
    "            V[currState] += alpha*TDerror\n",
    "            \n",
    "            currState = nextState\n",
    "            \n",
    "            if done:\n",
    "                break\n",
    "        rList.append(rTotalFromEpisode) # keep a list of total reward from each episode\n",
    "        \n",
    "    return V\n",
    "            \n",
    "        "
   ]
  },
  {
   "cell_type": "code",
   "execution_count": 4,
   "metadata": {
    "collapsed": false
   },
   "outputs": [
    {
     "data": {
      "text/plain": [
       "array([-23.51589307, -24.35856523, -22.98883872, -19.44972571,\n",
       "       -16.57030757,  -9.34143972,  -6.41473664,  -5.2962863 ,\n",
       "        -2.73257334,  -0.54575598,   0.        ,   0.        ,\n",
       "       -32.65740979, -31.87972409, -30.64372715, -25.62375194,\n",
       "       -20.13704463, -15.15471674, -13.00239544, -13.83155877,\n",
       "        -5.66359979,  -1.946058  ,   0.        ,   0.        ,\n",
       "       -42.92492506, -59.5908419 , -64.75663691, -57.83832799,\n",
       "       -56.40492452, -40.66806481, -37.04360635, -40.17850863,\n",
       "        -7.71273572,  -9.23842075,   0.        ,   0.        ,\n",
       "       -68.6033008 ,   0.        ,   0.        ,   0.        ,\n",
       "         0.        ,   0.        ,   0.        ,   0.        ,\n",
       "         0.        ,   0.        ,   0.        ,   0.        ])"
      ]
     },
     "execution_count": 4,
     "metadata": {},
     "output_type": "execute_result"
    }
   ],
   "source": [
    "TD0JC(env,500,0.9)"
   ]
  }
 ],
 "metadata": {
  "kernelspec": {
   "display_name": "Python 3",
   "language": "python",
   "name": "python3"
  },
  "language_info": {
   "codemirror_mode": {
    "name": "ipython",
    "version": 3
   },
   "file_extension": ".py",
   "mimetype": "text/x-python",
   "name": "python",
   "nbconvert_exporter": "python",
   "pygments_lexer": "ipython3",
   "version": "3.6.1"
  }
 },
 "nbformat": 4,
 "nbformat_minor": 2
}
