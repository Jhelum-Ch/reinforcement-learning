{
 "cells": [
  {
   "cell_type": "code",
   "execution_count": 1,
   "metadata": {
    "collapsed": false,
    "deletable": true,
    "editable": true
   },
   "outputs": [],
   "source": [
    "import numpy as np\n",
    "from libr.envs.gridworld import GridworldEnv"
   ]
  },
  {
   "cell_type": "code",
   "execution_count": 2,
   "metadata": {
    "collapsed": false,
    "deletable": true,
    "editable": true
   },
   "outputs": [],
   "source": [
    "env = GridworldEnv()"
   ]
  },
  {
   "cell_type": "code",
   "execution_count": 3,
   "metadata": {
    "collapsed": false,
    "deletable": true,
    "editable": true
   },
   "outputs": [],
   "source": [
    "def valueIterationJC(env, discount, tol = 10**(-4)):\n",
    "    '''This is the main function for computing policy iteration method.\n",
    "    Inputs - (i) env: the environment\n",
    "            (ii) discount: the discount factor for infinite horizon discounted DP\n",
    "            (iii) tol: tolerance for stopping the iterations; the default value is 10^(-4)\n",
    "    Outputs - Value and policy  \n",
    "    For example, see Figure 4.5 of Sutton and Barto for the pseudocode\n",
    "    '''\n",
    "    \n",
    "    \n",
    "    V = np.zeros(env.nS) #initialize Value vector for all states (number of states = env.nS)\n",
    "    V_old = np.copy(V) # keep a copy of V to compare the error in iterations\n",
    "    \n",
    "    policy = np.zeros(env.nS) # policy is an array with env.nS number of rows and env.nA number of columns\n",
    "    \n",
    "        \n",
    "    def spanNorm(V, V_old):\n",
    "        '''V and V_old are arrays of same dimention'''\n",
    "        \n",
    "        diff_vec = V-V_old\n",
    "        diff_span = np.max(diff_vec) - np.min(diff_vec)\n",
    "        return diff_span\n",
    "\n",
    "    def oneStepValueExp(V_old):\n",
    "        actionvalueExp = np.zeros([env.nS, env.nA]) # array of actions \n",
    "        V = np.zeros(env.nS)\n",
    "        \n",
    "        for s in range(env.nS):\n",
    "            for a in range(env.nA):\n",
    "                for prob, nextState, reward, done in env.P[s][a]:\n",
    "                    #Bellman update\n",
    "                    actionvalueExp[s][a] += prob*(reward+discount*V_old[nextState])\n",
    "            V[s] = np.max(actionvalueExp[s])\n",
    "            policy[s] = np.argmax(actionvalueExp[s])                                         \n",
    "        return V, policy\n",
    "                                                \n",
    "   \n",
    "    while True:\n",
    "        V_old = np.copy(V)                                    \n",
    "        V, policy = oneStepValueExp(V_old)\n",
    "        err = spanNorm(V,V_old)\n",
    "        if err < tol:\n",
    "            break\n",
    "                                                  \n",
    "    return V, policy                                               "
   ]
  },
  {
   "cell_type": "code",
   "execution_count": 4,
   "metadata": {
    "collapsed": false
   },
   "outputs": [
    {
     "data": {
      "text/plain": [
       "(array([ 0.  , -1.  , -1.9 , -2.71, -1.  , -1.9 , -2.71, -1.9 , -1.9 ,\n",
       "        -2.71, -1.9 , -1.  , -2.71, -1.9 , -1.  ,  0.  ]),\n",
       " array([ 0.,  3.,  3.,  2.,  0.,  0.,  0.,  2.,  0.,  0.,  1.,  2.,  0.,\n",
       "         1.,  1.,  0.]))"
      ]
     },
     "execution_count": 4,
     "metadata": {},
     "output_type": "execute_result"
    }
   ],
   "source": [
    "valueIterationJC(env, 0.9)"
   ]
  }
 ],
 "metadata": {
  "kernelspec": {
   "display_name": "Python 3",
   "language": "python",
   "name": "python3"
  },
  "language_info": {
   "codemirror_mode": {
    "name": "ipython",
    "version": 3
   },
   "file_extension": ".py",
   "mimetype": "text/x-python",
   "name": "python",
   "nbconvert_exporter": "python",
   "pygments_lexer": "ipython3",
   "version": "3.6.1"
  }
 },
 "nbformat": 4,
 "nbformat_minor": 2
}
