{
 "cells": [
  {
   "cell_type": "code",
   "execution_count": 1,
   "metadata": {
    "collapsed": true,
    "deletable": true,
    "editable": true
   },
   "outputs": [],
   "source": [
    "import numpy as np\n",
    "import itertools\n",
    "import random\n",
    "import gym\n",
    "from libr.envs.cliff_walking2 import CliffWalkingEnv"
   ]
  },
  {
   "cell_type": "code",
   "execution_count": 2,
   "metadata": {
    "collapsed": true,
    "deletable": true,
    "editable": true
   },
   "outputs": [],
   "source": [
    "env = CliffWalkingEnv()"
   ]
  },
  {
   "cell_type": "code",
   "execution_count": 3,
   "metadata": {
    "collapsed": true,
    "deletable": true,
    "editable": true
   },
   "outputs": [],
   "source": [
    "def SARSAJC(env, numEpisodes, discount, epsilon):\n",
    "    '''This is the main function for computing on-policy (epsilon-soft policy) TD0 method.\n",
    "    Inputs - (i) env: OpenAI gym environment\n",
    "            (ii) numEpisodes: number of episodes\n",
    "            (iii) discount: the discount factor for infinite horizon discounted DP\n",
    "            (iv) epsilon: small non-negative scalar for epsilon-greedy policy\n",
    "    Outputs - Q-Value, greedy policy\n",
    "    For example, see Figure 6.9 of Sutton and Barto for the pseudocode\n",
    "    '''\n",
    "    \n",
    "    #initialize\n",
    "    Q = np.zeros([env.observation_space.n,env.action_space.n])\n",
    "    alpha = 0.1 #learning rate\n",
    "    rList=[]\n",
    "    greedyPolicy=np.ones([env.observation_space.n,1]) #Greedy policy for all states\n",
    "    \n",
    "    def epsilonGreedyPolicy(state,Q,epsilon):\n",
    "        if np.random.rand(1) > epsilon:\n",
    "            a = np.argmax(Q[state])\n",
    "        else:\n",
    "            a = env.action_space.sample()\n",
    "        return a\n",
    "    \n",
    "    for ep in range(numEpisodes):\n",
    "        currState = env.reset()\n",
    "        rTotalFromEpisode = 0\n",
    "        for _ in itertools.count():\n",
    "            currAction = epsilonGreedyPolicy(currState,Q,epsilon)\n",
    "            \n",
    "            #generate a sample\n",
    "            nextState, reward, done, _ = env.step(currAction)\n",
    "            rTotalFromEpisode += reward\n",
    "            \n",
    "            nextAction = epsilonGreedyPolicy(nextState,Q,epsilon)\n",
    "            \n",
    "            TDerror = reward + discount*Q[nextState,nextAction] - Q[currState,currAction]\n",
    "            \n",
    "            Q[currState,currAction] += alpha*TDerror\n",
    "            \n",
    "            currState = nextState\n",
    "            currAction = nextAction\n",
    "            \n",
    "            if done:\n",
    "                break\n",
    "        rList.append(rTotalFromEpisode)\n",
    "    greedyPolicy=np.argmax(Q,1)\n",
    "    return Q, greedyPolicy\n",
    "    "
   ]
  },
  {
   "cell_type": "code",
   "execution_count": 4,
   "metadata": {
    "collapsed": false,
    "deletable": true,
    "editable": true
   },
   "outputs": [
    {
     "data": {
      "text/plain": [
       "(array([[ -7.98570681,  -7.95481193,  -7.96394024,  -7.96682797],\n",
       "        [ -7.79127369,  -7.75645655,  -7.84970941,  -7.77303129],\n",
       "        [ -7.52693416,  -7.51619767,  -7.53929678,  -7.66302969],\n",
       "        [ -7.36990402,  -7.22983043,  -7.34271855,  -7.32953773],\n",
       "        [ -6.99499234,  -6.9085327 ,  -7.12908227,  -7.04285069],\n",
       "        [ -6.68187263,  -6.49547232,  -6.72007108,  -6.8006355 ],\n",
       "        [ -6.37351918,  -6.10960526,  -6.41727626,  -6.37785343],\n",
       "        [ -5.9057624 ,  -5.74829066,  -6.07608476,  -6.22246027],\n",
       "        [ -5.4001074 ,  -5.09313305,  -5.65025183,  -5.70836598],\n",
       "        [ -4.72383366,  -4.54010338,  -4.45029982,  -5.33776962],\n",
       "        [ -4.26938418,  -3.90482763,  -3.92045034,  -4.58563933],\n",
       "        [ -3.67842924,  -3.57495916,  -3.18799883,  -4.08372023],\n",
       "        [ -8.1188387 ,  -8.25061689,  -9.42801943,  -8.12960335],\n",
       "        [ -7.92856753,  -7.92632477,  -9.66384328,  -7.94341048],\n",
       "        [ -7.71184263,  -7.71670511,  -8.09616318,  -7.71660227],\n",
       "        [ -7.44472601,  -7.55098599,  -8.25016616,  -7.48873344],\n",
       "        [ -6.93775041,  -6.88955481, -11.45516426,  -6.97928724],\n",
       "        [ -6.66405265,  -6.62265805,  -6.89403956,  -6.66915013],\n",
       "        [ -6.35081273,  -6.35485474,  -6.36685195,  -6.40354354],\n",
       "        [ -6.06338694,  -6.03868352,  -6.55667847,  -6.06821505],\n",
       "        [ -4.6945453 ,  -4.47194732, -13.08359447,  -4.77064928],\n",
       "        [ -4.2545136 ,  -3.79021193,  -3.8866188 ,  -4.3053064 ],\n",
       "        [ -3.58693312,  -3.02575522,  -3.90225467,  -3.71582139],\n",
       "        [ -3.69958423,  -3.05927629,  -2.0025278 ,  -3.5938587 ],\n",
       "        [ -8.27920191,  -9.43136022, -11.98709382,  -8.77510909],\n",
       "        [ -7.62445443,  -7.81819593, -81.46979811,  -7.70033479],\n",
       "        [ -7.54104658,  -8.84893877, -68.61894039, -16.73745238],\n",
       "        [ -6.81019006,  -7.34406766, -56.953279  , -11.04209125],\n",
       "        [ -5.20164037,  -5.08623228, -46.8559    ,  -5.34239491],\n",
       "        [ -6.28233222,  -7.88718839, -68.61894039,  -5.73329749],\n",
       "        [ -6.17579564,  -6.31818722, -46.8559    ,  -6.15207276],\n",
       "        [ -5.31800002,  -6.74226274, -27.1       ,  -5.21590696],\n",
       "        [ -4.49587028,  -5.15878086, -46.8559    ,  -4.96770367],\n",
       "        [ -2.91109697,  -2.68786141, -34.39      ,  -6.81684003],\n",
       "        [ -2.20295917,  -2.42537394, -71.75704635,  -2.70250455],\n",
       "        [ -2.6005361 ,  -1.86280776,  -1.        ,  -3.32547799],\n",
       "        [ -8.51672201, -98.17519964, -10.32601379, -10.08486312],\n",
       "        [  0.        ,   0.        ,   0.        ,   0.        ],\n",
       "        [  0.        ,   0.        ,   0.        ,   0.        ],\n",
       "        [  0.        ,   0.        ,   0.        ,   0.        ],\n",
       "        [  0.        ,   0.        ,   0.        ,   0.        ],\n",
       "        [  0.        ,   0.        ,   0.        ,   0.        ],\n",
       "        [  0.        ,   0.        ,   0.        ,   0.        ],\n",
       "        [  0.        ,   0.        ,   0.        ,   0.        ],\n",
       "        [  0.        ,   0.        ,   0.        ,   0.        ],\n",
       "        [  0.        ,   0.        ,   0.        ,   0.        ],\n",
       "        [  0.        ,   0.        ,   0.        ,   0.        ],\n",
       "        [  0.        ,   0.        ,   0.        ,   0.        ]]),\n",
       " array([1, 1, 1, 1, 1, 1, 1, 1, 1, 2, 1, 2, 0, 1, 0, 0, 1, 1, 0, 1, 1, 1, 1,\n",
       "        2, 0, 0, 0, 0, 1, 3, 3, 3, 0, 1, 0, 2, 0, 0, 0, 0, 0, 0, 0, 0, 0, 0,\n",
       "        0, 0]))"
      ]
     },
     "execution_count": 4,
     "metadata": {},
     "output_type": "execute_result"
    }
   ],
   "source": [
    "SARSAJC(env,500,0.9,0.19)"
   ]
  }
 ],
 "metadata": {
  "kernelspec": {
   "display_name": "Python 3",
   "language": "python",
   "name": "python3"
  },
  "language_info": {
   "codemirror_mode": {
    "name": "ipython",
    "version": 3
   },
   "file_extension": ".py",
   "mimetype": "text/x-python",
   "name": "python",
   "nbconvert_exporter": "python",
   "pygments_lexer": "ipython3",
   "version": "3.6.1"
  }
 },
 "nbformat": 4,
 "nbformat_minor": 2
}
