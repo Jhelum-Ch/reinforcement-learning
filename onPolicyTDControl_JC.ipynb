{
 "cells": [
  {
   "cell_type": "code",
   "execution_count": 1,
   "metadata": {
    "collapsed": true
   },
   "outputs": [],
   "source": [
    "import numpy as np\n",
    "import itertools\n",
    "import random\n",
    "import gym\n",
    "from libr.envs.cliff_walking2 import CliffWalkingEnv"
   ]
  },
  {
   "cell_type": "code",
   "execution_count": 2,
   "metadata": {
    "collapsed": true
   },
   "outputs": [],
   "source": [
    "env = CliffWalkingEnv()"
   ]
  },
  {
   "cell_type": "code",
   "execution_count": 3,
   "metadata": {
    "collapsed": true
   },
   "outputs": [],
   "source": [
    "def SARSAJC(env, numEpisodes, discount, epsilon):\n",
    "    '''This is the main function for computing on-policy (epsilon-soft policy) TD0 method.\n",
    "    Inputs - (i) env: OpenAI gym environment\n",
    "            (ii) numEpisodes: number of episodes\n",
    "            (iii) discount: the discount factor for infinite horizon discounted DP\n",
    "            (iv) epsilon: small non-negative scalar for epsilon-greedy policy\n",
    "    Outputs - Q-Value, greedy policy\n",
    "    For example, see Figure 6.2 of Sutton and Barto for the pseudocode\n",
    "    '''\n",
    "    \n",
    "    #initialize\n",
    "    Q = np.zeros([env.observation_space.n,env.action_space.n])\n",
    "    alpha = 0.1 #learning rate\n",
    "    rList=[]\n",
    "    greedyPolicy=np.ones([env.observation_space.n,1]) #Greedy policy for all states\n",
    "    \n",
    "    def epsilonGreedyPolicy(state,Q,epsilon):\n",
    "        if np.random.rand(1) > epsilon:\n",
    "            a = np.argmax(Q[state])\n",
    "        else:\n",
    "            a = env.action_space.sample()\n",
    "        return a\n",
    "    \n",
    "    for ep in range(numEpisodes):\n",
    "        currState = env.reset()\n",
    "        rTotalFromEpisode = 0\n",
    "        for _ in itertools.count():\n",
    "            currAction = epsilonGreedyPolicy(currState,Q,epsilon)\n",
    "            \n",
    "            #generate a sample\n",
    "            nextState, reward, done, _ = env.step(currAction)\n",
    "            rTotalFromEpisode += reward\n",
    "            \n",
    "            nextAction = epsilonGreedyPolicy(nextState,Q,epsilon)\n",
    "            \n",
    "            TDerror = reward + discount*Q[nextState,nextAction] - Q[currState,currAction]\n",
    "            \n",
    "            Q[currState,currAction] += alpha*TDerror\n",
    "            \n",
    "            currState = nextState\n",
    "            currAction = nextAction\n",
    "            \n",
    "            if done:\n",
    "                break\n",
    "        rList.append(rTotalFromEpisode)\n",
    "    greedyPolicy=np.argmax(Q,1)\n",
    "    return Q, greedyPolicy\n",
    "    "
   ]
  },
  {
   "cell_type": "code",
   "execution_count": 4,
   "metadata": {
    "collapsed": false
   },
   "outputs": [
    {
     "data": {
      "text/plain": [
       "(array([[ -8.03836915,  -7.97451196,  -8.09624163,  -7.99308364],\n",
       "        [ -7.8040971 ,  -7.7249689 ,  -7.75125782,  -7.90957757],\n",
       "        [ -7.51329041,  -7.46128581,  -7.8405537 ,  -7.47658116],\n",
       "        [ -7.34476925,  -7.17189708,  -7.35319043,  -7.39649645],\n",
       "        [ -6.9795931 ,  -6.84916436,  -7.00558608,  -7.12301216],\n",
       "        [ -6.7145006 ,  -6.51850674,  -6.5926254 ,  -6.58422688],\n",
       "        [ -6.10739868,  -6.07670468,  -6.10532918,  -6.43824652],\n",
       "        [ -5.84995133,  -5.61423528,  -5.73410054,  -5.98414357],\n",
       "        [ -5.31944721,  -5.1205522 ,  -5.17726678,  -5.67979084],\n",
       "        [ -4.67343603,  -4.59992402,  -4.58488182,  -5.16832218],\n",
       "        [ -4.15228212,  -4.01290535,  -4.06922602,  -4.3294205 ],\n",
       "        [ -3.5469889 ,  -3.4982771 ,  -3.31997252,  -3.96645757],\n",
       "        [ -8.16402694,  -8.24350604,  -8.62181519,  -8.16324956],\n",
       "        [ -7.87999185,  -7.8763601 , -10.33867033,  -7.90135403],\n",
       "        [ -7.32854992,  -7.28456785, -10.56935775,  -7.37183941],\n",
       "        [ -7.12282409,  -6.93616371,  -8.53108384,  -7.19968589],\n",
       "        [ -6.82025814,  -6.50234766, -11.80386155,  -6.85835423],\n",
       "        [ -6.15548311,  -6.16520875, -10.47734042,  -6.17047796],\n",
       "        [ -5.98107096,  -5.87208044,  -7.35610563,  -6.11447345],\n",
       "        [ -5.56959447,  -5.50390934,  -5.53052051,  -5.62246336],\n",
       "        [ -5.25535219,  -4.95445387,  -8.94964281,  -5.19757089],\n",
       "        [ -4.46012233,  -3.96340407,  -6.14026869,  -4.69885354],\n",
       "        [ -3.9633223 ,  -3.17354668,  -3.61090883,  -4.04565867],\n",
       "        [ -3.70250587,  -3.04058877,  -2.05814907,  -3.5657021 ],\n",
       "        [ -8.35646119,  -9.60333814, -11.38949226,  -8.6432342 ],\n",
       "        [ -7.82678532,  -9.50355455, -61.2579511 ,  -7.93095777],\n",
       "        [ -6.73053928, -10.62081855, -52.17031   ,  -6.81765121],\n",
       "        [ -5.77516129,  -6.20688229, -52.17031   ,  -6.53173961],\n",
       "        [ -6.29541813, -11.6940882 , -61.2579511 , -10.1855674 ],\n",
       "        [ -5.83428309,  -8.47292726, -71.75704635,  -5.79243862],\n",
       "        [ -5.64686389,  -7.63735484, -40.951     ,  -5.62025243],\n",
       "        [ -5.40878334,  -6.95883914, -40.951     ,  -5.45130909],\n",
       "        [ -4.89171999,  -4.98784456, -52.17031   ,  -4.83473265],\n",
       "        [ -4.5057763 ,  -6.51995644, -46.8559    ,  -4.59114126],\n",
       "        [ -2.84160972,  -2.15552068, -46.8559    ,  -2.69375174],\n",
       "        [ -2.82051293,  -1.92779226,  -1.        , -10.31379126],\n",
       "        [ -8.6618642 , -97.21871611, -16.12479374, -11.63655955],\n",
       "        [  0.        ,   0.        ,   0.        ,   0.        ],\n",
       "        [  0.        ,   0.        ,   0.        ,   0.        ],\n",
       "        [  0.        ,   0.        ,   0.        ,   0.        ],\n",
       "        [  0.        ,   0.        ,   0.        ,   0.        ],\n",
       "        [  0.        ,   0.        ,   0.        ,   0.        ],\n",
       "        [  0.        ,   0.        ,   0.        ,   0.        ],\n",
       "        [  0.        ,   0.        ,   0.        ,   0.        ],\n",
       "        [  0.        ,   0.        ,   0.        ,   0.        ],\n",
       "        [  0.        ,   0.        ,   0.        ,   0.        ],\n",
       "        [  0.        ,   0.        ,   0.        ,   0.        ],\n",
       "        [  0.        ,   0.        ,   0.        ,   0.        ]]),\n",
       " array([1, 1, 1, 1, 1, 1, 1, 1, 1, 2, 1, 2, 3, 1, 1, 1, 1, 0, 1, 1, 1, 1, 1,\n",
       "        2, 0, 0, 0, 0, 0, 3, 3, 0, 3, 0, 1, 2, 0, 0, 0, 0, 0, 0, 0, 0, 0, 0,\n",
       "        0, 0]))"
      ]
     },
     "execution_count": 4,
     "metadata": {},
     "output_type": "execute_result"
    }
   ],
   "source": [
    "SARSAJC(env,500,0.9,0.19)"
   ]
  }
 ],
 "metadata": {
  "kernelspec": {
   "display_name": "Python 3",
   "language": "python",
   "name": "python3"
  },
  "language_info": {
   "codemirror_mode": {
    "name": "ipython",
    "version": 3
   },
   "file_extension": ".py",
   "mimetype": "text/x-python",
   "name": "python",
   "nbconvert_exporter": "python",
   "pygments_lexer": "ipython3",
   "version": "3.6.1"
  }
 },
 "nbformat": 4,
 "nbformat_minor": 2
}
