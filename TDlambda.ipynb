{
 "cells": [
  {
   "cell_type": "code",
   "execution_count": 1,
   "metadata": {
    "collapsed": true
   },
   "outputs": [],
   "source": [
    "import numpy as np\n",
    "#from itertools import permutations, repeat, product\n",
    "import itertools\n",
    "import gym\n",
    "from libr.envs.cliff_walking2 import CliffWalkingEnv"
   ]
  },
  {
   "cell_type": "code",
   "execution_count": 2,
   "metadata": {
    "collapsed": true
   },
   "outputs": [],
   "source": [
    "env = CliffWalkingEnv()"
   ]
  },
  {
   "cell_type": "code",
   "execution_count": 3,
   "metadata": {
    "collapsed": true
   },
   "outputs": [],
   "source": [
    "def TDlambdaJC(env, numEpisodes, discount, lam):\n",
    "    '''This is the main function for computing TD(lambda) policy evaluation method. I have used a random policy \n",
    "    to be evaluated.\n",
    "    Inputs - (i) env: OpenAI gym environment\n",
    "            (ii) numEpisodes: number of episodes\n",
    "            (iii) discount: the discount factor for infinite horizon discounted DP\n",
    "            (iv) lam: a scalar between 0 and 1, used as a parameter for TD(lambda)\n",
    "    Outputs - Value\n",
    "    For example, see Figure 7.7 of Sutton and Barto for the pseudocode\n",
    "    '''\n",
    "    #initialize\n",
    "    V = np.zeros(env.observation_space.n)\n",
    "    e = np.zeros_like(V) # eligibility trace vector\n",
    "    alpha = 0.1 #learning rate\n",
    "    rList=[]\n",
    "    \n",
    "    def randomPolicy(state):\n",
    "        a=env.action_space.sample()\n",
    "        return a\n",
    "    \n",
    "    for ep in range(numEpisodes):\n",
    "        currState = env.reset()\n",
    "        rTotalFromEpisode = 0\n",
    "        for _ in itertools.count():\n",
    "            currAction = randomPolicy(currState)\n",
    "            \n",
    "            #generate a sample\n",
    "            nextState, reward, done, _ = env.step(currAction)            \n",
    "            rTotalFromEpisode += reward\n",
    "            \n",
    "            TDerror = reward + discount*V[nextState] - V[currState]\n",
    "            e[currState] += 1\n",
    "            \n",
    "            for state in range(env.observation_space.n):\n",
    "                V[state] += alpha*TDerror*e[state]\n",
    "                e[state] *= discount*lam\n",
    "            \n",
    "            if done:\n",
    "                break\n",
    "            currState = nextState\n",
    "            \n",
    "        rList.append(rTotalFromEpisode)\n",
    "    return V\n",
    "            \n",
    "    "
   ]
  },
  {
   "cell_type": "code",
   "execution_count": 4,
   "metadata": {
    "collapsed": false
   },
   "outputs": [
    {
     "data": {
      "text/plain": [
       "array([-27.5159222 , -30.68113286, -28.57320245, -26.94329109,\n",
       "       -24.4708182 , -23.40134546, -20.21310359, -15.80273216,\n",
       "       -13.03014196,  -3.57068323,   0.        ,   0.        ,\n",
       "       -43.65890909, -35.64556172, -33.98397795, -35.29458492,\n",
       "       -34.42900525, -41.36900042, -37.77329352, -32.83665137,\n",
       "       -19.63939271,  -6.62936479,   0.        ,   0.        ,\n",
       "       -58.42530351, -68.86284483, -63.84273792, -66.46671154,\n",
       "       -67.00492011, -52.40826697, -51.67939691, -44.45007282,\n",
       "       -16.81733887, -11.30936941,   0.        ,   0.        ,\n",
       "       -73.94460568,   0.        ,   0.        ,   0.        ,\n",
       "         0.        ,   0.        ,   0.        ,   0.        ,\n",
       "         0.        ,   0.        ,   0.        ,   0.        ])"
      ]
     },
     "execution_count": 4,
     "metadata": {},
     "output_type": "execute_result"
    }
   ],
   "source": [
    "TDlambdaJC(env,500,0.9,0.7)"
   ]
  }
 ],
 "metadata": {
  "kernelspec": {
   "display_name": "Python 3",
   "language": "python",
   "name": "python3"
  },
  "language_info": {
   "codemirror_mode": {
    "name": "ipython",
    "version": 3
   },
   "file_extension": ".py",
   "mimetype": "text/x-python",
   "name": "python",
   "nbconvert_exporter": "python",
   "pygments_lexer": "ipython3",
   "version": "3.6.1"
  }
 },
 "nbformat": 4,
 "nbformat_minor": 2
}
